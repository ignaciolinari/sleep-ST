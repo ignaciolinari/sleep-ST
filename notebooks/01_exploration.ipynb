{
 "cells": [
  {
   "cell_type": "markdown",
   "id": "57a4ace9",
   "metadata": {},
   "source": [
    "# Exploración de datos Sleep-EDF\n",
    "Este notebook está destinado a la exploración inicial de los datos."
   ]
  }
 ],
 "metadata": {
  "language_info": {
   "name": "python"
  }
 },
 "nbformat": 4,
 "nbformat_minor": 5
}
